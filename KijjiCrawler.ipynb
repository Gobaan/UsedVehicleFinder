{
 "cells": [
  {
   "cell_type": "code",
   "execution_count": 8,
   "metadata": {
    "collapsed": false
   },
   "outputs": [],
   "source": [
    "import requests\n",
    "import bs4\n",
    "import time\n",
    "import json\n",
    "import os.path"
   ]
  },
  {
   "cell_type": "code",
   "execution_count": 2,
   "metadata": {
    "collapsed": true
   },
   "outputs": [],
   "source": [
    "root = 'http://www.kijiji.ca/b-cars-trucks/british-columbia/dodge-ram-van/mini+van__other+body+type/k0c174l9007a138?price=10__12000'"
   ]
  },
  {
   "cell_type": "code",
   "execution_count": 9,
   "metadata": {
    "collapsed": true
   },
   "outputs": [],
   "source": [
    "if not os.path.exists('kijjivans.json'):\n",
    "    with open('kijjivans.json', 'w') as fp:\n",
    "        pass"
   ]
  },
  {
   "cell_type": "code",
   "execution_count": null,
   "metadata": {
    "collapsed": false
   },
   "outputs": [],
   "source": []
  },
  {
   "cell_type": "code",
   "execution_count": 3,
   "metadata": {
    "collapsed": false
   },
   "outputs": [
    {
     "name": "stdout",
     "output_type": "stream",
     "text": [
      "['http://www.kijiji.ca/v-cars-trucks/kamloops/2002-dodge-power-ram-3500-minivan-van-2-vans-for-price-of-1/1201536808?src=topAdSearch', 'http://www.kijiji.ca/v-cars-trucks/vernon/2001-dodge-ram-van-other/1192131080?src=topAdSearch', 'http://www.kijiji.ca/v-cars-trucks/kamloops/2002-dodge-power-ram-3500-minivan-van-2-vans-for-price-of-1/1201536808', 'http://www.kijiji.ca/v-cars-trucks/vernon/2001-dodge-ram-van-other/1192131080', 'http://www.kijiji.ca/v-cars-trucks/williams-lake/2001-dodge-van-b3500/1200018898', 'http://www.kijiji.ca/v-cars-trucks/vernon/1996-dodge-work-van/1199861427', 'http://www.kijiji.ca/v-cars-trucks/vernon/1990-dodge-b250-ram-van-propane-5-2-l-extended-van-automatic/591605402', 'http://www.kijiji.ca/v-cars-trucks/nelson/1991-dodge-ram-van-150/1196405964', 'http://www.kijiji.ca/v-cars-trucks/whistler/dodge-power-ram-1500-minivan-van-camperized/1194429281', 'http://www.kijiji.ca/v-cars-trucks/nelson/2000-dodge-ram-van-3500-minivan-van/1192911735', 'http://www.kijiji.ca/v-cars-trucks/victoria-bc/sell-or-trade-1987-grateful-dead-dodge-ram-b250-camper-van/1177650326', 'http://www.kijiji.ca/v-cars-trucks/penticton/dodge-sportsman-citation-7000/1192437593', 'http://www.kijiji.ca/v-cars-trucks/prince-george/1988-dodge-ram-van-b250-3-4-ton/1118297913', 'http://www.kijiji.ca/v-cars-trucks/richmond-bc/1995-dodge-propane-cargo-van-raised-roof-power-gate-reliabl-3500/1148042473']\n"
     ]
    },
    {
     "name": "stderr",
     "output_type": "stream",
     "text": [
      "/usr/local/lib/python3.5/site-packages/bs4/__init__.py:181: UserWarning: No parser was explicitly specified, so I'm using the best available HTML parser for this system (\"lxml\"). This usually isn't a problem, but if you run this code on another system, or in a different virtual environment, it may use a different parser and behave differently.\n",
      "\n",
      "The code that caused this warning is on line 1 of the file <string>. To get rid of this warning, change code that looks like this:\n",
      "\n",
      " BeautifulSoup([your markup])\n",
      "\n",
      "to this:\n",
      "\n",
      " BeautifulSoup([your markup], \"lxml\")\n",
      "\n",
      "  markup_type=markup_type))\n"
     ]
    }
   ],
   "source": [
    "response = requests.get(root)\n",
    "soup = bs4.BeautifulSoup(response.text)\n",
    "links = [tag.find('a')['href'] for tag in \n",
    "         soup.find('div', {'class':'container-results'}).find_all('div', {'class':'clearfix'})]\n",
    "links = ['http://www.kijiji.ca%s' % link for link in links]\n",
    "print (links)"
   ]
  },
  {
   "cell_type": "code",
   "execution_count": 4,
   "metadata": {
    "collapsed": false
   },
   "outputs": [],
   "source": [
    "for link in links:\n",
    "    posting = requests.get(link)\n",
    "    break"
   ]
  },
  {
   "cell_type": "code",
   "execution_count": 5,
   "metadata": {
    "collapsed": false
   },
   "outputs": [
    {
     "name": "stdout",
     "output_type": "stream",
     "text": [
      "http://www.kijiji.ca/v-cars-trucks/kamloops/2002-dodge-power-ram-3500-minivan-van-2-vans-for-price-of-1/1201536808?src=topAdSearch\n"
     ]
    }
   ],
   "source": [
    "print(link)"
   ]
  },
  {
   "cell_type": "code",
   "execution_count": 6,
   "metadata": {
    "collapsed": false
   },
   "outputs": [
    {
     "name": "stdout",
     "output_type": "stream",
     "text": [
      "{'No. of Seats': '2', 'Make': 'Dodge', 'Model': 'Power Ram 3500', 'Drivetrain': 'Rear-wheel drive (RWD)', 'No. of Doors': '4', 'Date Listed': '26-Sep-16', 'Kilometers': '158,666', 'Colour': 'White', 'Address': '850 Pembroke Ave, Kamloops, BC V2B 1Z3, Canada', 'body': '2 Work Vans for the price of one. $3500 OBO for both!!!!!! Call 250-879-2777 LOW KM ON BOTH! BOTH VANS ARE THE SAME YEAR AND STYLE! ALL THE PARTS MATCH UP!!! First reasonable offer takes them away, need the parking spots NOW! One van runs well, no issues and One of the Vans is an ICBC write off so it cannot be insured, everything runs except the transmission is messed up. Its more of a parts van. VEHICLE OPTIONS: Air Conditioning Cruise control Power steering Tilt wheel CD player Airbag: driver Airbag: passenger', 'Transmission': 'Automatic', 'images': ['http://i.ebayimg.com/00/s/NjAwWDgwMA==/z/LyMAAOSwzaJX4p-b/$_35.JPG', 'http://i.ebayimg.com/00/s/NjAwWDgwMA==/z/~AwAAOSwTA9X4p-T/$_35.JPG', 'http://i.ebayimg.com/00/s/NjAwWDgwMA==/z/zk8AAOSwLF1X4p-K/$_35.JPG', 'http://i.ebayimg.com/00/s/ODAwWDYwMA==/z/uuwAAOSwLnBX4p-8/$_35.JPG', 'http://i.ebayimg.com/00/s/NjAwWDgwMA==/z/zIwAAOSwCGVX4p-y/$_35.JPG', 'http://i.ebayimg.com/00/s/NjAwWDgwMA==/z/hsAAAOSwmfhX4p-k/$_35.JPG'], 'Price': '$3,500.00', 'Year': '2002', 'title': '2002 Dodge Power Ram 3500 Minivan, Van (2 Vans for price of 1)', \"Accident History Report(What's This?)\": 'Get CarProof Report', 'For Sale By': 'Owner', 'Fuel Type': 'Gasoline', 'Body Type': 'Minivan, Van'}\n"
     ]
    },
    {
     "name": "stderr",
     "output_type": "stream",
     "text": [
      "/usr/local/lib/python3.5/site-packages/bs4/__init__.py:181: UserWarning: No parser was explicitly specified, so I'm using the best available HTML parser for this system (\"lxml\"). This usually isn't a problem, but if you run this code on another system, or in a different virtual environment, it may use a different parser and behave differently.\n",
      "\n",
      "The code that caused this warning is on line 1 of the file <string>. To get rid of this warning, change code that looks like this:\n",
      "\n",
      " BeautifulSoup([your markup])\n",
      "\n",
      "to this:\n",
      "\n",
      " BeautifulSoup([your markup], \"lxml\")\n",
      "\n",
      "  markup_type=markup_type))\n"
     ]
    }
   ],
   "source": [
    "def extract_posting(soup):\n",
    "    posting = {}\n",
    "    posting['title'] = soup.find('span', {'itemprop':'name'}).text\n",
    "    table = soup.find('table', {'class':'ad-attributes'})\n",
    "    for row in table.find_all('tr'):\n",
    "        key = row.find('th')\n",
    "        value = row.find('td')\n",
    "        if not key or not value: continue\n",
    "        value = value.text.replace('View map', '')\n",
    "        posting[key.text.strip()] = ' '.join(value.split())\n",
    "    images_container = soup.find('ul', {'id' : 'ShownImage'})\n",
    "    images = [image['src'] for image in images_container.find_all('img')]\n",
    "    posting['images'] = images\n",
    "    posting['body'] = ' '.join(soup.find('span', {'itemprop':'description'}).text.split())\n",
    "    return posting\n",
    "print (extract_posting(bs4.BeautifulSoup(posting.text)))"
   ]
  },
  {
   "cell_type": "code",
   "execution_count": 12,
   "metadata": {
    "collapsed": false
   },
   "outputs": [],
   "source": [
    "with open('kijjivans.json') as fp:\n",
    "    vans = [json.loads(line) for line in fp]\n",
    "crawled_vans = set([van['url'] for van in vans])\n",
    "\n",
    "def crawl_searched_vans(links, car, category):\n",
    "    with open('kijjivans.json', 'a') as fp:\n",
    "        for url in links:\n",
    "            if url in crawled_vans: continue\n",
    "            van = requests.get(url)\n",
    "            try:\n",
    "                posting = extract_posting(bs4.BeautifulSoup(van.text))\n",
    "            except:\n",
    "                posting = {}\n",
    "            posting['url'] = url\n",
    "            posting['query'] = car\n",
    "            posting['type'] = category\n",
    "            posting['date'] = time.strftime(\"%Y-%m-%d %H:%M:%S\", time.gmtime())\n",
    "            posting['deadlink'] = False\n",
    "            posting['crawler'] = 'Kijji'\n",
    "            crawled_vans.add(url)\n",
    "            fp.write(json.dumps(posting) + '\\n')\n",
    "            time.sleep(5)\n",
    "            \n",
    "def crawl_all_vans():        \n",
    "    category_link = {'van': 'http://www.kijiji.ca/b-cars-trucks/british-columbia/%s/mini+van__other+body+type/k0c174l9007a138?price=10__12000',\n",
    "             'rv' : 'http://www.kijiji.ca/b-rv-camper-trailer/british-columbia/%s/k0c172l9007?price=10__12000'}\n",
    "    cars = ['dodge ram van', 'ford tuscany van', 'food truck', 'chevy express', 'gmc savana', 'ford econoline', \n",
    "            'ford e350', 'ford transit', 'cargo van' ]\n",
    "    cars = [car.replace(' ', '-') for car in cars]\n",
    "\n",
    "    for category in category_link:\n",
    "        for car in cars:\n",
    "            search_page = category_link[category] % car\n",
    "            print (search_page, end=\": \")\n",
    "            response = requests.get(search_page)\n",
    "\n",
    "            soup = bs4.BeautifulSoup(response.text)\n",
    "            try:\n",
    "                links = [tag.find('a')['href'] for tag in \n",
    "                         soup.find('div', {'class':'container-results'}).find_all('div', {'class':'clearfix'})]\n",
    "                links = ['http://www.kijiji.ca%s' % link for link in links]\n",
    "                print (len(links))\n",
    "                time.sleep(3)\n",
    "                crawl_searched_vans(links, car, category)\n",
    "            except: \n",
    "                print (0)\n",
    "                pass"
   ]
  },
  {
   "cell_type": "code",
   "execution_count": 13,
   "metadata": {
    "collapsed": false
   },
   "outputs": [
    {
     "name": "stdout",
     "output_type": "stream",
     "text": [
      "http://www.kijiji.ca/b-cars-trucks/british-columbia/dodge-ram-van/mini+van__other+body+type/k0c174l9007a138?price=10__12000: "
     ]
    },
    {
     "name": "stderr",
     "output_type": "stream",
     "text": [
      "/usr/local/lib/python3.5/site-packages/bs4/__init__.py:181: UserWarning: No parser was explicitly specified, so I'm using the best available HTML parser for this system (\"lxml\"). This usually isn't a problem, but if you run this code on another system, or in a different virtual environment, it may use a different parser and behave differently.\n",
      "\n",
      "The code that caused this warning is on line 1 of the file <string>. To get rid of this warning, change code that looks like this:\n",
      "\n",
      " BeautifulSoup([your markup])\n",
      "\n",
      "to this:\n",
      "\n",
      " BeautifulSoup([your markup], \"lxml\")\n",
      "\n",
      "  markup_type=markup_type))\n"
     ]
    },
    {
     "name": "stdout",
     "output_type": "stream",
     "text": [
      "14\n",
      "http://www.kijiji.ca/b-cars-trucks/british-columbia/ford-tuscany-van/mini+van__other+body+type/k0c174l9007a138?price=10__12000: 0\n",
      "http://www.kijiji.ca/b-cars-trucks/british-columbia/food-truck/mini+van__other+body+type/k0c174l9007a138?price=10__12000: 0\n",
      "http://www.kijiji.ca/b-cars-trucks/british-columbia/chevy-express/mini+van__other+body+type/k0c174l9007a138?price=10__12000: 1\n",
      "http://www.kijiji.ca/b-cars-trucks/british-columbia/gmc-savana/mini+van__other+body+type/k0c174l9007a138?price=10__12000: 4\n",
      "http://www.kijiji.ca/b-cars-trucks/british-columbia/ford-econoline/mini+van__other+body+type/k0c174l9007a138?price=10__12000: 16\n",
      "http://www.kijiji.ca/b-cars-trucks/british-columbia/ford-e350/mini+van__other+body+type/k0c174l9007a138?price=10__12000: 21\n",
      "http://www.kijiji.ca/b-cars-trucks/british-columbia/ford-transit/mini+van__other+body+type/k0c174l9007a138?price=10__12000: 5\n",
      "http://www.kijiji.ca/b-cars-trucks/british-columbia/cargo-van/mini+van__other+body+type/k0c174l9007a138?price=10__12000: 22\n",
      "http://www.kijiji.ca/b-rv-camper-trailer/british-columbia/dodge-ram-van/k0c172l9007?price=10__12000: 3\n",
      "http://www.kijiji.ca/b-rv-camper-trailer/british-columbia/ford-tuscany-van/k0c172l9007?price=10__12000: 0\n",
      "http://www.kijiji.ca/b-rv-camper-trailer/british-columbia/food-truck/k0c172l9007?price=10__12000: 2\n",
      "http://www.kijiji.ca/b-rv-camper-trailer/british-columbia/chevy-express/k0c172l9007?price=10__12000: 0\n",
      "http://www.kijiji.ca/b-rv-camper-trailer/british-columbia/gmc-savana/k0c172l9007?price=10__12000: 0\n",
      "http://www.kijiji.ca/b-rv-camper-trailer/british-columbia/ford-econoline/k0c172l9007?price=10__12000: 4\n",
      "http://www.kijiji.ca/b-rv-camper-trailer/british-columbia/ford-e350/k0c172l9007?price=10__12000: 6\n",
      "http://www.kijiji.ca/b-rv-camper-trailer/british-columbia/ford-transit/k0c172l9007?price=10__12000: 0\n",
      "http://www.kijiji.ca/b-rv-camper-trailer/british-columbia/cargo-van/k0c172l9007?price=10__12000: 0\n"
     ]
    }
   ],
   "source": [
    "crawl_all_vans()"
   ]
  },
  {
   "cell_type": "code",
   "execution_count": null,
   "metadata": {
    "collapsed": true
   },
   "outputs": [],
   "source": []
  },
  {
   "cell_type": "code",
   "execution_count": null,
   "metadata": {
    "collapsed": true
   },
   "outputs": [],
   "source": []
  },
  {
   "cell_type": "code",
   "execution_count": null,
   "metadata": {
    "collapsed": true
   },
   "outputs": [],
   "source": []
  }
 ],
 "metadata": {
  "kernelspec": {
   "display_name": "IPython (Python 3)",
   "language": "python",
   "name": "python3"
  },
  "language_info": {
   "codemirror_mode": {
    "name": "ipython",
    "version": 3
   },
   "file_extension": ".py",
   "mimetype": "text/x-python",
   "name": "python",
   "nbconvert_exporter": "python",
   "pygments_lexer": "ipython3",
   "version": "3.5.1"
  }
 },
 "nbformat": 4,
 "nbformat_minor": 0
}
